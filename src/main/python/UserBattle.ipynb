{
 "cells": [
  {
   "cell_type": "code",
   "execution_count": 49,
   "metadata": {},
   "outputs": [],
   "source": [
    "# Required Imports\n",
    "from battle_simulation.Battle import Battle, experiment_winner\n",
    "from battle_simulation.Pokemon import Pokemon\n",
    "from ipywidgets import *\n",
    "from IPython.display import display, clear_output\n",
    "import os\n",
    "from pathlib import Path\n",
    "import pandas as pd\n",
    "import json\n",
    "import random\n",
    "import logging"
   ]
  },
  {
   "cell_type": "code",
   "execution_count": 50,
   "metadata": {},
   "outputs": [
    {
     "name": "stdout",
     "output_type": "stream",
     "text": [
      "Pokemon to use: Blastoise\n"
     ]
    },
    {
     "name": "stderr",
     "output_type": "stream",
     "text": [
      "INFO:root:>>> Battle started between: Mewtwo and Charizard\n",
      "INFO:root:>>> Mewtwo used Confuse Ray!\n",
      "INFO:root:>>> Charizard is confused\n",
      "INFO:root:>>> Charizard used Flare Blitz!\n",
      "INFO:root:>>> Mewtwo HP is now 49.0.\n",
      "INFO:root:>>> Mewtwo used Psychic!\n",
      "INFO:root:>>> Charizard HP is now 9.200000000000003.\n",
      "INFO:root:>>> Charizard is confused\n",
      "INFO:root:>>> Charizard used Flare Blitz!\n",
      "INFO:root:>>> Mewtwo has fainted.\n",
      "INFO:root:>>> Charizard is the winner.\n"
     ]
    },
    {
     "name": "stdout",
     "output_type": "stream",
     "text": [
      "Charizard\n"
     ]
    }
   ],
   "source": [
    "# Get the logger\n",
    "logger = logging.getLogger()\n",
    "logger.setLevel(logging.INFO)\n",
    "\n",
    "mfs_path = os.path.join(str(Path(os.path.realpath('__file__')).parents[3]), 'mfs')\n",
    "pokemon_df = pd.read_csv(os.path.join(mfs_path, 'pokedex_data.csv'), index_col=2)\n",
    "pokemon_df.drop('Unnamed: 0', axis=1, inplace=True)\n",
    "\n",
    "status_effect_df = pd.read_csv(os.path.join(mfs_path, 'status_effects.csv'), index_col=0)\n",
    "\n",
    "moveset_json = os.path.join(mfs_path, 'moveset.json')\n",
    "with open(moveset_json) as json_file:\n",
    "    moveset_data = json.load(json_file)\n",
    "\n",
    "# First Pokemon\n",
    "first_mon_name = input('Pokemon to use: ')\n",
    "first_mon_moveset = moveset_data['Mewtwo']\n",
    "first_mon = Pokemon('Mewtwo', pokemon_df, first_mon_moveset, status_effect_df)\n",
    "\n",
    "# Randomize the second one from available choices from moveset dict\n",
    "second_mon_name = random.choice(list(moveset_data.keys()))\n",
    "second_mon_moveset = moveset_data[second_mon_name]\n",
    "second_pokemon = Pokemon(second_mon_name, pokemon_df, second_mon_moveset, status_effect_df)\n",
    "\n",
    "battle = Battle(first_mon, second_pokemon)\n",
    "print(battle.execute_battle())"
   ]
  },
  {
   "cell_type": "code",
   "execution_count": 51,
   "metadata": {},
   "outputs": [
    {
     "name": "stdout",
     "output_type": "stream",
     "text": [
      "Choose the move that Mewtwo will use from the following: \n"
     ]
    },
    {
     "data": {
      "application/vnd.jupyter.widget-view+json": {
       "model_id": "7a9dce26390e4b6aa400f71b34dfe2e2",
       "version_major": 2,
       "version_minor": 0
      },
      "text/plain": [
       "HBox(children=(VBox(children=(Button(description='Move 1', style=ButtonStyle()), Button(description='Move 2', …"
      ]
     },
     "metadata": {},
     "output_type": "display_data"
    },
    {
     "data": {
      "application/vnd.jupyter.widget-view+json": {
       "model_id": "c46b7f58229242c2805ca7b6c0cc1f65",
       "version_major": 2,
       "version_minor": 0
      },
      "text/plain": [
       "Output()"
      ]
     },
     "metadata": {},
     "output_type": "display_data"
    }
   ],
   "source": [
    "# Widgets\n",
    "# Move options\n",
    "\n",
    "words = ['Move 1', 'Move 2', 'Move 3', 'Move 4']\n",
    "items = [Button(description=w) for w in words]\n",
    "left_box = VBox([items[0], items[1]])\n",
    "right_box = VBox([items[2], items[3]])\n",
    "HBox([left_box, right_box])\n",
    "\n",
    "output = widgets.Output()\n",
    "print('Choose the move that {name} will use from the following: '.format(name=first_mon.name))\n",
    "display(HBox([left_box, right_box]), output)\n",
    "\n",
    "def on_button_clicked(b):\n",
    "    with output:\n",
    "        clear_output()\n",
    "        print(\"{} was used.\".format(b.description))\n",
    "\n",
    "items[0].on_click(on_button_clicked)\n",
    "items[1].on_click(on_button_clicked)\n",
    "items[2].on_click(on_button_clicked)\n",
    "items[3].on_click(on_button_clicked)\n",
    "\n"
   ]
  },
  {
   "cell_type": "code",
   "execution_count": null,
   "metadata": {},
   "outputs": [],
   "source": []
  },
  {
   "cell_type": "code",
   "execution_count": null,
   "metadata": {},
   "outputs": [],
   "source": []
  }
 ],
 "metadata": {
  "kernelspec": {
   "display_name": "Python 3",
   "language": "python",
   "name": "python3"
  },
  "language_info": {
   "codemirror_mode": {
    "name": "ipython",
    "version": 3
   },
   "file_extension": ".py",
   "mimetype": "text/x-python",
   "name": "python",
   "nbconvert_exporter": "python",
   "pygments_lexer": "ipython3",
   "version": "3.6.5"
  }
 },
 "nbformat": 4,
 "nbformat_minor": 2
}
