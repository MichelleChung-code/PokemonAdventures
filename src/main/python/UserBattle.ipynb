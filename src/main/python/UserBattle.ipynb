{
 "cells": [
  {
   "cell_type": "code",
   "execution_count": 51,
   "metadata": {},
   "outputs": [],
   "source": [
    "# Required Imports\n",
    "from battle_simulation.Battle import Battle, experiment_winner\n",
    "from battle_simulation.Pokemon import Pokemon\n",
    "from ipywidgets import *\n",
    "from IPython.display import display, clear_output\n",
    "from battle_simulation.battle_common import battle_log_msg\n",
    "import os\n",
    "from pathlib import Path\n",
    "import pandas as pd\n",
    "import json\n",
    "import random\n",
    "import logging\n",
    "import copy\n",
    "from traitlets import traitlets"
   ]
  },
  {
   "cell_type": "code",
   "execution_count": 55,
   "metadata": {},
   "outputs": [],
   "source": [
    "# New child class for user input being from Jupyter widgets instead of just user input\n",
    "\n",
    "\n",
    "class UserBattleJupyter(Battle):\n",
    "    def __init__(self, Pokemon1, Pokemon2):\n",
    "        super().__init__(Pokemon1, Pokemon2)\n",
    "\n",
    "    def battle_execute_turn_user_input(self):\n",
    "        \"\"\"\n",
    "        Runs one turn of the battle through using user input, read in through the ipywidgets button\n",
    "        User pokemon is Pokemon1\n",
    "        \n",
    "        This function is overwritten from the parent class\n",
    "        \"\"\"\n",
    "\n",
    "        # Get the moves from user click\n",
    "        user_input_move_options_dict = {\n",
    "            k: list(first_mon_moveset[k].keys())[0] for k in first_mon_moveset\n",
    "        }\n",
    "        res_ls = [items[0].value, items[1].value, items[2].value, items[3].value]\n",
    "\n",
    "        chosen_move_str = [x for x in res_ls if x is not False][\n",
    "            0\n",
    "        ]  # extract the chosen move\n",
    "        user_choice = list(user_input_move_options_dict.keys())[\n",
    "            list(user_input_move_options_dict.values()).index(chosen_move_str)\n",
    "        ]\n",
    "        print(\n",
    "            \"Selected move: {} was used\".format(\n",
    "                user_input_move_options_dict[user_choice]\n",
    "            )\n",
    "        )\n",
    "\n",
    "        if self.Pokemon1.speed >= self.Pokemon2.speed:\n",
    "            #             print(\"Next turn: \")\n",
    "            self.Pokemon1.use_move(self.Pokemon2, int(user_choice))\n",
    "            if self.Pokemon2.hp > 0:  # if Pokemon2 has fainted from the previous move\n",
    "                self.Pokemon2.use_move(self.Pokemon1)\n",
    "        else:\n",
    "            #             print(\"Next turn: \")\n",
    "            self.Pokemon2.use_move(self.Pokemon1)\n",
    "            if self.Pokemon1.hp > 0:\n",
    "                self.Pokemon1.use_move(self.Pokemon2, int(user_choice))\n",
    "\n",
    "        if self.Pokemon1.hp == 0 or self.Pokemon2.hp == 0:\n",
    "            winner = self.Pokemon1.name if self.Pokemon1.hp > 0 else self.Pokemon2.name\n",
    "            print(\"The battle is finished.  {} is the winner.\".format(winner))\n",
    "        else:\n",
    "            print(\"Please select another move from the widget buttons.\")"
   ]
  },
  {
   "cell_type": "code",
   "execution_count": 59,
   "metadata": {},
   "outputs": [],
   "source": [
    "# Required functions\n",
    "\n",
    "def on_button_clicked(b):\n",
    "    for i in range(len(items)):\n",
    "        items[i].value = False\n",
    "    with output:\n",
    "        b.value = b.description\n",
    "        battle.battle_execute_turn_user_input()\n",
    "\n",
    "\n",
    "class LoadedButton(widgets.Button):\n",
    "    \"\"\"A button that can holds a value as a attribute.\"\"\"\n",
    "\n",
    "    # from https://stackoverflow.com/questions/45188464/return-output-of-the-function-executed-on-click\n",
    "\n",
    "    def __init__(self, value=None, *args, **kwargs):\n",
    "        super(LoadedButton, self).__init__(*args, **kwargs)\n",
    "        # Create the value attribute.\n",
    "        self.add_traits(value=traitlets.Any(value))"
   ]
  },
  {
   "cell_type": "code",
   "execution_count": 60,
   "metadata": {},
   "outputs": [
    {
     "name": "stdout",
     "output_type": "stream",
     "text": [
      "Pokemon to use from the following options: ['Mewtwo', 'Mew', 'Charizard', 'Blastoise', 'Pikachu']Mew\n"
     ]
    },
    {
     "name": "stderr",
     "output_type": "stream",
     "text": [
      "INFO:root:>>> Battle started between: Mew and Mewtwo\n"
     ]
    },
    {
     "name": "stdout",
     "output_type": "stream",
     "text": [
      "Choose the move that Mew will use from the following: \n"
     ]
    },
    {
     "data": {
      "application/vnd.jupyter.widget-view+json": {
       "model_id": "d3ac11d4e47a4c3b825a71763f095714",
       "version_major": 2,
       "version_minor": 0
      },
      "text/plain": [
       "HBox(children=(VBox(children=(LoadedButton(description='Confusion', style=ButtonStyle()), LoadedButton(descrip…"
      ]
     },
     "metadata": {},
     "output_type": "display_data"
    },
    {
     "data": {
      "application/vnd.jupyter.widget-view+json": {
       "model_id": "e9214ef76045416ebf1281d8bcf6666d",
       "version_major": 2,
       "version_minor": 0
      },
      "text/plain": [
       "Output()"
      ]
     },
     "metadata": {},
     "output_type": "display_data"
    }
   ],
   "source": [
    "# Get the logger\n",
    "logger = logging.getLogger()\n",
    "logger.setLevel(logging.INFO)\n",
    "\n",
    "# Read in the required raw data\n",
    "mfs_path = os.path.join(str(Path(os.path.realpath(\"__file__\")).parents[3]), \"mfs\")\n",
    "pokemon_df = pd.read_csv(os.path.join(mfs_path, \"pokedex_data.csv\"), index_col=2)\n",
    "pokemon_df.drop(\"Unnamed: 0\", axis=1, inplace=True)\n",
    "\n",
    "status_effect_df = pd.read_csv(\n",
    "    os.path.join(mfs_path, \"status_effects.csv\"), index_col=0\n",
    ")\n",
    "\n",
    "moveset_json = os.path.join(mfs_path, \"moveset.json\")\n",
    "with open(moveset_json) as json_file:\n",
    "    moveset_data = json.load(json_file)\n",
    "\n",
    "# First Pokemon, user chooses from input\n",
    "first_mon_name = input(\n",
    "    \"Pokemon to use from the following options: {}\".format(list(moveset_data.keys()))\n",
    ")\n",
    "first_mon_moveset = moveset_data[first_mon_name]\n",
    "first_mon = Pokemon(first_mon_name, pokemon_df, first_mon_moveset, status_effect_df)\n",
    "\n",
    "# Randomize the second one from available choices from moveset dict\n",
    "# cannot be the same pokemon that was chosen as the first one\n",
    "ls_choices = copy.deepcopy(list(moveset_data.keys()))\n",
    "ls_choices.remove(first_mon_name)\n",
    "second_mon_name = random.choice(ls_choices)\n",
    "second_mon_moveset = moveset_data[second_mon_name]\n",
    "second_pokemon = Pokemon(\n",
    "    second_mon_name, pokemon_df, second_mon_moveset, status_effect_df\n",
    ")\n",
    "\n",
    "\n",
    "# Initiating the battle class\n",
    "battle = UserBattleJupyter(first_mon, second_pokemon)\n",
    "battle_log_msg('Battle started between: {0} and {1}'.format(first_mon.name, second_pokemon.name))\n",
    "\n",
    "\n",
    "\n",
    "# Widgets to be displayed for the move options\n",
    "user_input_move_options_dict = {\n",
    "    k: list(first_mon_moveset[k].keys())[0] for k in first_mon_moveset\n",
    "}\n",
    "words = [list(first_mon_moveset[k].keys())[0] for k in first_mon_moveset]\n",
    "items = [LoadedButton(description=w) for w in words]\n",
    "left_box = VBox([items[0], items[1]])\n",
    "right_box = VBox([items[2], items[3]])\n",
    "HBox([left_box, right_box])\n",
    "\n",
    "# all button values are initialized to False\n",
    "for i in range(len(items)):\n",
    "    items[i].value = False\n",
    "\n",
    "output = widgets.Output()\n",
    "\n",
    "print(\n",
    "    \"Choose the move that {name} will use from the following: \".format(\n",
    "        name=first_mon.name\n",
    "    )\n",
    ")\n",
    "\n",
    "display(HBox([left_box, right_box]), output)\n",
    "\n",
    "# Move actions on button clicks\n",
    "items[0].on_click(on_button_clicked)\n",
    "items[1].on_click(on_button_clicked)\n",
    "items[2].on_click(on_button_clicked)\n",
    "items[3].on_click(on_button_clicked)"
   ]
  }
 ],
 "metadata": {
  "kernelspec": {
   "display_name": "Python 3",
   "language": "python",
   "name": "python3"
  },
  "language_info": {
   "codemirror_mode": {
    "name": "ipython",
    "version": 3
   },
   "file_extension": ".py",
   "mimetype": "text/x-python",
   "name": "python",
   "nbconvert_exporter": "python",
   "pygments_lexer": "ipython3",
   "version": "3.7.4"
  }
 },
 "nbformat": 4,
 "nbformat_minor": 2
}
