{
 "cells": [
  {
   "cell_type": "code",
   "execution_count": 1,
   "metadata": {},
   "outputs": [],
   "source": [
    "# Required Imports\n",
    "from battle_simulation.Battle import Battle, experiment_winner\n",
    "from battle_simulation.Pokemon import Pokemon\n",
    "from ipywidgets import *\n",
    "from IPython.display import display, clear_output\n",
    "import os\n",
    "from pathlib import Path\n",
    "import pandas as pd\n",
    "import json\n",
    "import random\n",
    "import logging\n",
    "from traitlets import traitlets"
   ]
  },
  {
   "cell_type": "code",
   "execution_count": 37,
   "metadata": {},
   "outputs": [],
   "source": [
    "# New child class for user input being from Jupyter widgets instead of just user input\n",
    "\n",
    "class UserBattleJupyter(Battle):\n",
    "    def __init__(self, Pokemon1, Pokemon2):\n",
    "        super().__init__(Pokemon1, Pokemon2)\n",
    "        \n",
    "    def battle_execute_turn_user_input(self):\n",
    "        # overwrite this\n",
    "        pass"
   ]
  },
  {
   "cell_type": "code",
   "execution_count": 38,
   "metadata": {},
   "outputs": [
    {
     "name": "stdout",
     "output_type": "stream",
     "text": [
      "Pokemon to use from the following options: ['Mewtwo', 'Mew', 'Charizard', 'Blastoise', 'Pikachu']Mew\n"
     ]
    },
    {
     "name": "stderr",
     "output_type": "stream",
     "text": [
      "INFO:root:>>> Battle started between: Mewtwo and Mew\n",
      "INFO:root:>>> Mewtwo used Psybeam!\n",
      "INFO:root:>>> Mew HP is now 62.5.\n",
      "INFO:root:>>> Mew used Mega Punch!\n",
      "INFO:root:>>> Mewtwo HP is now 61.0.\n",
      "INFO:root:>>> Mewtwo used Psybeam!\n",
      "INFO:root:>>> Mew HP is now 25.0.\n",
      "INFO:root:>>> Mew used Pound!\n",
      "INFO:root:>>> Mewtwo HP is now 36.0.\n",
      "INFO:root:>>> Mewtwo used Psychic!\n",
      "INFO:root:>>> Mew has fainted.\n",
      "INFO:root:>>> Mewtwo is the winner.\n"
     ]
    },
    {
     "data": {
      "text/plain": [
       "'Mewtwo'"
      ]
     },
     "execution_count": 38,
     "metadata": {},
     "output_type": "execute_result"
    }
   ],
   "source": [
    "# Get the logger\n",
    "logger = logging.getLogger()\n",
    "logger.setLevel(logging.INFO)\n",
    "\n",
    "mfs_path = os.path.join(str(Path(os.path.realpath('__file__')).parents[3]), 'mfs')\n",
    "pokemon_df = pd.read_csv(os.path.join(mfs_path, 'pokedex_data.csv'), index_col=2)\n",
    "pokemon_df.drop('Unnamed: 0', axis=1, inplace=True)\n",
    "\n",
    "status_effect_df = pd.read_csv(os.path.join(mfs_path, 'status_effects.csv'), index_col=0)\n",
    "\n",
    "moveset_json = os.path.join(mfs_path, 'moveset.json')\n",
    "with open(moveset_json) as json_file:\n",
    "    moveset_data = json.load(json_file)\n",
    "\n",
    "# First Pokemon, user chooses from input\n",
    "first_mon_name = input('Pokemon to use from the following options: {}'.format(list(moveset_data.keys())))\n",
    "first_mon_moveset = moveset_data['Mewtwo']\n",
    "first_mon = Pokemon('Mewtwo', pokemon_df, first_mon_moveset, status_effect_df)\n",
    "\n",
    "# Randomize the second one from available choices from moveset dict\n",
    "second_mon_name = random.choice(list(moveset_data.keys()))\n",
    "second_mon_moveset = moveset_data[second_mon_name]\n",
    "second_pokemon = Pokemon(second_mon_name, pokemon_df, second_mon_moveset, status_effect_df)\n",
    "\n",
    "battle = UserBattleJupyter(first_mon, second_pokemon)\n",
    "battle.execute_battle()"
   ]
  },
  {
   "cell_type": "code",
   "execution_count": 26,
   "metadata": {},
   "outputs": [],
   "source": [
    "# Required functions\n",
    "global items\n",
    "\n",
    "def on_button_clicked(b):\n",
    "    with output:\n",
    "        clear_output() # clear existing output first to not write another line\n",
    "        \n",
    "        for i in range(len(items)):\n",
    "            items[i].value = False\n",
    "            \n",
    "        print(\"{} was used.\".format(b.description))\n",
    "        b.value = b.description\n",
    "        \n",
    "class LoadedButton(widgets.Button):\n",
    "    \"\"\"A button that can holds a value as a attribute.\"\"\"\n",
    "    # from https://stackoverflow.com/questions/45188464/return-output-of-the-function-executed-on-click\n",
    "\n",
    "    def __init__(self, value=None, *args, **kwargs):\n",
    "        super(LoadedButton, self).__init__(*args, **kwargs)\n",
    "        # Create the value attribute.\n",
    "        self.add_traits(value=traitlets.Any(value))"
   ]
  },
  {
   "cell_type": "code",
   "execution_count": 27,
   "metadata": {},
   "outputs": [
    {
     "name": "stdout",
     "output_type": "stream",
     "text": [
      "Choose the move that Mewtwo will use from the following: \n"
     ]
    },
    {
     "data": {
      "application/vnd.jupyter.widget-view+json": {
       "model_id": "6e82ad1b25634f83b4913d7b44c94bca",
       "version_major": 2,
       "version_minor": 0
      },
      "text/plain": [
       "HBox(children=(VBox(children=(LoadedButton(description='Confusion', style=ButtonStyle()), LoadedButton(descrip…"
      ]
     },
     "metadata": {},
     "output_type": "display_data"
    },
    {
     "data": {
      "application/vnd.jupyter.widget-view+json": {
       "model_id": "de307849f80c46058a8575678a9ddc24",
       "version_major": 2,
       "version_minor": 0
      },
      "text/plain": [
       "Output()"
      ]
     },
     "metadata": {},
     "output_type": "display_data"
    }
   ],
   "source": [
    "# Widgets to be displayed for the move options\n",
    "\n",
    "words = [list(first_mon_moveset[k].keys())[0] for k in first_mon_moveset]\n",
    "global items\n",
    "items = [LoadedButton(description=w) for w in words]\n",
    "left_box = VBox([items[0], items[1]])\n",
    "right_box = VBox([items[2], items[3]])\n",
    "HBox([left_box, right_box])\n",
    "\n",
    "output = widgets.Output()\n",
    "print('Choose the move that {name} will use from the following: '.format(name=first_mon.name))\n",
    "display(HBox([left_box, right_box]), output)\n",
    "\n",
    "items[0].on_click(on_button_clicked)\n",
    "items[1].on_click(on_button_clicked)\n",
    "items[2].on_click(on_button_clicked)\n",
    "items[3].on_click(on_button_clicked)\n"
   ]
  },
  {
   "cell_type": "code",
   "execution_count": 29,
   "metadata": {},
   "outputs": [
    {
     "name": "stdout",
     "output_type": "stream",
     "text": [
      "[False, False, 'Psybeam', False]\n"
     ]
    }
   ],
   "source": [
    "print([items[0].value, items[1].value, items[2].value, items[3].value])"
   ]
  },
  {
   "cell_type": "code",
   "execution_count": 32,
   "metadata": {},
   "outputs": [
    {
     "ename": "SyntaxError",
     "evalue": "unexpected EOF while parsing (<ipython-input-32-20e112d4f915>, line 6)",
     "output_type": "error",
     "traceback": [
      "\u001b[1;36m  File \u001b[1;32m\"<ipython-input-32-20e112d4f915>\"\u001b[1;36m, line \u001b[1;32m6\u001b[0m\n\u001b[1;33m    # overwrite this\u001b[0m\n\u001b[1;37m                    ^\u001b[0m\n\u001b[1;31mSyntaxError\u001b[0m\u001b[1;31m:\u001b[0m unexpected EOF while parsing\n"
     ]
    }
   ],
   "source": []
  },
  {
   "cell_type": "code",
   "execution_count": null,
   "metadata": {},
   "outputs": [],
   "source": []
  }
 ],
 "metadata": {
  "kernelspec": {
   "display_name": "Python 3",
   "language": "python",
   "name": "python3"
  },
  "language_info": {
   "codemirror_mode": {
    "name": "ipython",
    "version": 3
   },
   "file_extension": ".py",
   "mimetype": "text/x-python",
   "name": "python",
   "nbconvert_exporter": "python",
   "pygments_lexer": "ipython3",
   "version": "3.7.4"
  }
 },
 "nbformat": 4,
 "nbformat_minor": 2
}
